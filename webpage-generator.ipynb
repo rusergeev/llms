{
 "cells": [
  {
   "cell_type": "code",
   "id": "initial_id",
   "metadata": {
    "collapsed": true
   },
   "source": [
    "import gradio as gr\n",
    "import os\n",
    "from dotenv import load_dotenv\n",
    "import openai\n",
    "import json"
   ],
   "outputs": [],
   "execution_count": null
  },
  {
   "metadata": {},
   "cell_type": "code",
   "source": [
    "load_dotenv(override=True)\n",
    "openai_api_key = os.getenv('OPENAI_API_KEY')\n",
    "MODEL_GPT = 'gpt-4o-mini'"
   ],
   "id": "537a0d873a67d823",
   "outputs": [],
   "execution_count": null
  },
  {
   "metadata": {},
   "cell_type": "code",
   "source": [
    "system_prompt = \"\"\"\n",
    "    You are an AI that generates complete HTML webpages.\n",
    "\n",
    "    Always return the response in JSON format, with the following structure:\n",
    "\n",
    "    {\n",
    "        \"description\": \"Brief description of the page\",\n",
    "        \"generated_html\": \"<html>...</html>\"\n",
    "    }\n",
    "\n",
    "    Ensure the 'generated_html' contains a complete, valid HTML document with inline CSS and JavaScript.\n",
    "  \"\"\""
   ],
   "id": "a0f50b24fa086a20",
   "outputs": [],
   "execution_count": null
  },
  {
   "metadata": {},
   "cell_type": "code",
   "source": [
    "def chat_reply(history):\n",
    "    messages = [{\"role\": \"system\", \"content\": system_prompt}] + history\n",
    "    response = openai.chat.completions.create(\n",
    "        model=MODEL_GPT,\n",
    "        messages=messages,\n",
    "        response_format={\"type\": \"json_object\"}\n",
    "    )\n",
    "    parsed_json = json.loads(response.choices[0].message.content)\n",
    "    formated_reply = f'**{parsed_json[\"description\"]}**\\n\\n```html\\n{parsed_json[\"generated_html\"]}\\n```'\n",
    "    history += [{\"role\":\"assistant\", \"content\":formated_reply}]\n",
    "    return history, formated_reply"
   ],
   "id": "b75019d7e076c1f7",
   "outputs": [],
   "execution_count": null
  },
  {
   "metadata": {},
   "cell_type": "code",
   "source": [
    "\n",
    "with gr.Blocks() as ui:\n",
    "    with gr.Row():\n",
    "        chat = gr.Chatbot(height=500, type=\"messages\")\n",
    "        code = gr.Code(label=\"Code\", language=\"html\")\n",
    "        view = gr.HTML(label=\"View\")\n",
    "    with gr.Row():\n",
    "        entry = gr.Textbox(label=\"Chat with our AI Assistant:\")\n",
    "    with gr.Row():\n",
    "        clear = gr.Button(\"Clear\")\n",
    "\n",
    "    def do_entry(message, history):\n",
    "        history.append({\"role\": \"user\", \"content\": message})\n",
    "        return \"\", history\n",
    "\n",
    "    def update_view(new_code):\n",
    "        return new_code\n",
    "\n",
    "    entry.submit(do_entry, inputs=[entry, chat], outputs=[entry, chat]).then(\n",
    "        chat_reply, inputs=chat, outputs=[chat, code]\n",
    "    )\n",
    "    code.change(update_view, inputs=code, outputs=view)\n",
    "    clear.click(lambda: None, inputs=None, outputs=chat, queue=False)\n",
    "\n",
    "ui.launch(inbrowser=True)"
   ],
   "id": "672ad6ef06ce7de8",
   "outputs": [],
   "execution_count": null
  },
  {
   "metadata": {},
   "cell_type": "markdown",
   "source": "",
   "id": "29abaa589447cf75"
  }
 ],
 "metadata": {
  "kernelspec": {
   "display_name": "Python 3",
   "language": "python",
   "name": "python3"
  },
  "language_info": {
   "codemirror_mode": {
    "name": "ipython",
    "version": 2
   },
   "file_extension": ".py",
   "mimetype": "text/x-python",
   "name": "python",
   "nbconvert_exporter": "python",
   "pygments_lexer": "ipython2",
   "version": "2.7.6"
  }
 },
 "nbformat": 4,
 "nbformat_minor": 5
}
