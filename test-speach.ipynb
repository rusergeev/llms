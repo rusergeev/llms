{
 "cells": [
  {
   "cell_type": "code",
   "id": "ef27f622a866226b",
   "metadata": {
    "ExecuteTime": {
     "end_time": "2025-02-09T00:52:13.506829Z",
     "start_time": "2025-02-09T00:52:08.902894Z"
    }
   },
   "source": [
    "!ffmpeg -version\n",
    "!ffprobe -version\n",
    "!ffplay -version"
   ],
   "outputs": [
    {
     "name": "stdout",
     "output_type": "stream",
     "text": [
      "ffmpeg version 6.1.1 Copyright (c) 2000-2023 the FFmpeg developers\r\n",
      "built with clang version 14.0.6\r\n",
      "configuration: --prefix=/opt/homebrew/Caskroom/miniconda/base/envs/my-llms --cc=arm64-apple-darwin20.0.0-clang --ar=arm64-apple-darwin20.0.0-ar --nm=arm64-apple-darwin20.0.0-nm --ranlib=arm64-apple-darwin20.0.0-ranlib --strip=arm64-apple-darwin20.0.0-strip --disable-doc --enable-swresample --enable-swscale --enable-openssl --enable-libxml2 --enable-libtheora --enable-demuxer=dash --enable-postproc --enable-hardcoded-tables --enable-libfreetype --enable-libharfbuzz --enable-libfontconfig --enable-libdav1d --enable-zlib --enable-libaom --enable-pic --enable-shared --disable-static --disable-gpl --enable-version3 --disable-sdl2 --enable-libopenh264 --enable-libopus --enable-libmp3lame --enable-libopenjpeg --enable-libvorbis --enable-pthreads --enable-libtesseract --enable-libvpx --enable-librsvg\r\n",
      "libavutil      58. 29.100 / 58. 29.100\r\n",
      "libavcodec     60. 31.102 / 60. 31.102\r\n",
      "libavformat    60. 16.100 / 60. 16.100\r\n",
      "libavdevice    60.  3.100 / 60.  3.100\r\n",
      "libavfilter     9. 12.100 /  9. 12.100\r\n",
      "libswscale      7.  5.100 /  7.  5.100\r\n",
      "libswresample   4. 12.100 /  4. 12.100\r\n",
      "ffprobe version 6.1.1 Copyright (c) 2007-2023 the FFmpeg developers\r\n",
      "built with clang version 14.0.6\r\n",
      "configuration: --prefix=/opt/homebrew/Caskroom/miniconda/base/envs/my-llms --cc=arm64-apple-darwin20.0.0-clang --ar=arm64-apple-darwin20.0.0-ar --nm=arm64-apple-darwin20.0.0-nm --ranlib=arm64-apple-darwin20.0.0-ranlib --strip=arm64-apple-darwin20.0.0-strip --disable-doc --enable-swresample --enable-swscale --enable-openssl --enable-libxml2 --enable-libtheora --enable-demuxer=dash --enable-postproc --enable-hardcoded-tables --enable-libfreetype --enable-libharfbuzz --enable-libfontconfig --enable-libdav1d --enable-zlib --enable-libaom --enable-pic --enable-shared --disable-static --disable-gpl --enable-version3 --disable-sdl2 --enable-libopenh264 --enable-libopus --enable-libmp3lame --enable-libopenjpeg --enable-libvorbis --enable-pthreads --enable-libtesseract --enable-libvpx --enable-librsvg\r\n",
      "libavutil      58. 29.100 / 58. 29.100\r\n",
      "libavcodec     60. 31.102 / 60. 31.102\r\n",
      "libavformat    60. 16.100 / 60. 16.100\r\n",
      "libavdevice    60.  3.100 / 60.  3.100\r\n",
      "libavfilter     9. 12.100 /  9. 12.100\r\n",
      "libswscale      7.  5.100 /  7.  5.100\r\n",
      "libswresample   4. 12.100 /  4. 12.100\r\n",
      "ffplay version 7.1 Copyright (c) 2003-2024 the FFmpeg developers\r\n",
      "built with Apple clang version 16.0.0 (clang-1600.0.26.4)\r\n",
      "configuration: --prefix=/opt/homebrew/Cellar/ffmpeg/7.1_4 --enable-shared --enable-pthreads --enable-version3 --cc=clang --host-cflags= --host-ldflags='-Wl,-ld_classic' --enable-ffplay --enable-gnutls --enable-gpl --enable-libaom --enable-libaribb24 --enable-libbluray --enable-libdav1d --enable-libharfbuzz --enable-libjxl --enable-libmp3lame --enable-libopus --enable-librav1e --enable-librist --enable-librubberband --enable-libsnappy --enable-libsrt --enable-libssh --enable-libsvtav1 --enable-libtesseract --enable-libtheora --enable-libvidstab --enable-libvmaf --enable-libvorbis --enable-libvpx --enable-libwebp --enable-libx264 --enable-libx265 --enable-libxml2 --enable-libxvid --enable-lzma --enable-libfontconfig --enable-libfreetype --enable-frei0r --enable-libass --enable-libopencore-amrnb --enable-libopencore-amrwb --enable-libopenjpeg --enable-libspeex --enable-libsoxr --enable-libzmq --enable-libzimg --disable-libjack --disable-indev=jack --enable-videotoolbox --enable-audiotoolbox --enable-neon\r\n",
      "libavutil      59. 39.100 / 59. 39.100\r\n",
      "libavcodec     61. 19.100 / 61. 19.100\r\n",
      "libavformat    61.  7.100 / 61.  7.100\r\n",
      "libavdevice    61.  3.100 / 61.  3.100\r\n",
      "libavfilter    10.  4.100 / 10.  4.100\r\n",
      "libswscale      8.  3.100 /  8.  3.100\r\n",
      "libswresample   5.  3.100 /  5.  3.100\r\n",
      "libpostproc    58.  3.100 / 58.  3.100\r\n"
     ]
    }
   ],
   "execution_count": 1
  },
  {
   "metadata": {
    "ExecuteTime": {
     "end_time": "2025-02-09T00:56:26.955601Z",
     "start_time": "2025-02-09T00:56:26.942066Z"
    }
   },
   "cell_type": "code",
   "source": [
    "from pydub import AudioSegment\n",
    "from pydub.playback import play\n",
    "\n",
    "import os\n",
    "from dotenv import load_dotenv\n",
    "import openai\n",
    "from io import BytesIO\n"
   ],
   "id": "46a5f5d78d05eafa",
   "outputs": [],
   "execution_count": 4
  },
  {
   "metadata": {
    "ExecuteTime": {
     "end_time": "2025-02-09T00:56:27.098924Z",
     "start_time": "2025-02-09T00:56:27.095407Z"
    }
   },
   "cell_type": "code",
   "source": [
    "load_dotenv(override=True)\n",
    "openai_api_key = os.getenv('OPENAI_API_KEY')"
   ],
   "id": "3bcd709edb83c88b",
   "outputs": [],
   "execution_count": 5
  },
  {
   "metadata": {
    "ExecuteTime": {
     "end_time": "2025-02-09T00:56:28.418793Z",
     "start_time": "2025-02-09T00:56:28.416105Z"
    }
   },
   "cell_type": "code",
   "source": [
    "\n",
    "def talker(message):\n",
    "    response = openai.audio.speech.create(\n",
    "      model=\"tts-1\",\n",
    "      voice=\"alloy\",    # Also, try replacing onyx with alloy\n",
    "      input=message\n",
    "    )\n",
    "\n",
    "    audio_stream = BytesIO(response.content)\n",
    "    audio = AudioSegment.from_file(audio_stream, format=\"mp3\")\n",
    "    play(audio)"
   ],
   "id": "428f02b1852aea02",
   "outputs": [],
   "execution_count": 6
  },
  {
   "metadata": {
    "ExecuteTime": {
     "end_time": "2025-02-09T00:56:32.886929Z",
     "start_time": "2025-02-09T00:56:29.748206Z"
    }
   },
   "cell_type": "code",
   "source": "talker(\"Well, hi there\")",
   "id": "2cae60e0e175bc37",
   "outputs": [
    {
     "name": "stderr",
     "output_type": "stream",
     "text": [
      "Input #0, wav, from '/var/folders/yz/bfd7wgs93673rgmbqm94d5g80000gp/T/tmpq7gnsdgm.wav':\n",
      "  Duration: 00:00:00.82, bitrate: 384 kb/s\n",
      "  Stream #0:0: Audio: pcm_s16le ([1][0][0][0] / 0x0001), 24000 Hz, 1 channels, s16, 384 kb/s\n",
      "   0.74 M-A:  0.000 fd=   0 aq=    0KB vq=    0KB sq=    0B \r"
     ]
    },
    {
     "name": "stdout",
     "output_type": "stream",
     "text": [
      "\n"
     ]
    }
   ],
   "execution_count": 7
  },
  {
   "metadata": {},
   "cell_type": "code",
   "outputs": [],
   "execution_count": null,
   "source": "",
   "id": "7f855618c569de9e"
  }
 ],
 "metadata": {
  "kernelspec": {
   "display_name": "Python 3 (ipykernel)",
   "language": "python",
   "name": "python3"
  },
  "language_info": {
   "codemirror_mode": {
    "name": "ipython",
    "version": 3
   },
   "file_extension": ".py",
   "mimetype": "text/x-python",
   "name": "python",
   "nbconvert_exporter": "python",
   "pygments_lexer": "ipython3",
   "version": "3.11.11"
  }
 },
 "nbformat": 4,
 "nbformat_minor": 5
}
