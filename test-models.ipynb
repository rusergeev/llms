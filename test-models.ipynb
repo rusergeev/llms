{
 "cells": [
  {
   "metadata": {},
   "cell_type": "markdown",
   "source": [
    "# This is a sample Jupyter Notebook\n",
    "\n",
    "Below is an example of a code cell. \n",
    "Put your cursor into the cell and press Shift+Enter to execute it and select the next one, or click 'Run Cell' button.\n",
    "\n",
    "Press Double Shift to search everywhere for classes, files, tool windows, actions, and settings.\n",
    "\n",
    "To learn more about Jupyter Notebooks in PyCharm, see [help](https://www.jetbrains.com/help/pycharm/ipython-notebook-support.html).\n",
    "For an overview of PyCharm, go to Help -> Learn IDE features or refer to [our documentation](https://www.jetbrains.com/help/pycharm/getting-started.html)."
   ],
   "id": "8a77807f92f26ee"
  },
  {
   "metadata": {
    "ExecuteTime": {
     "end_time": "2025-02-06T09:34:11.068381Z",
     "start_time": "2025-02-06T09:34:10.929590Z"
    }
   },
   "cell_type": "code",
   "source": [
    "\n",
    "import os\n",
    "from dotenv import load_dotenv\n",
    "from models import OpenAIModel, ClaudeModel"
   ],
   "id": "ef27f622a866226b",
   "outputs": [],
   "execution_count": 2
  },
  {
   "metadata": {
    "ExecuteTime": {
     "end_time": "2025-02-06T09:34:42.317222Z",
     "start_time": "2025-02-06T09:34:42.315079Z"
    }
   },
   "cell_type": "code",
   "source": [
    "MODEL_GPT = 'gpt-4o-mini'\n",
    "MODEL_LLAMA = 'llama3.2'\n",
    "MODEL_CLAUDE = \"claude-3-5-sonnet-20241022\""
   ],
   "id": "fbc121e30a2defb3",
   "outputs": [],
   "execution_count": 4
  },
  {
   "metadata": {
    "ExecuteTime": {
     "end_time": "2025-02-06T09:34:43.771863Z",
     "start_time": "2025-02-06T09:34:43.767783Z"
    }
   },
   "cell_type": "code",
   "source": [
    "load_dotenv(override=True)\n",
    "openai_api_key = os.getenv('OPENAI_API_KEY')\n",
    "claude_api_key = os.getenv('ANTHROPIC_API_KEY')"
   ],
   "id": "c40e97220bd4e3d",
   "outputs": [],
   "execution_count": 5
  },
  {
   "metadata": {
    "ExecuteTime": {
     "end_time": "2025-02-06T09:34:44.423122Z",
     "start_time": "2025-02-06T09:34:44.325752Z"
    }
   },
   "cell_type": "code",
   "source": [
    "openai = OpenAIModel(model=MODEL_GPT)\n",
    "claude = ClaudeModel(model=MODEL_CLAUDE)"
   ],
   "id": "3b3aa908fee4a8c6",
   "outputs": [],
   "execution_count": 6
  },
  {
   "metadata": {
    "ExecuteTime": {
     "end_time": "2025-02-06T09:29:24.341617Z",
     "start_time": "2025-02-06T09:29:23.197319Z"
    }
   },
   "cell_type": "code",
   "source": "print(openai.tell(\"say B if you asked A\", \"A\"))",
   "id": "82d45e53c54aa63b",
   "outputs": [
    {
     "data": {
      "text/plain": [
       "'B'"
      ]
     },
     "execution_count": 16,
     "metadata": {},
     "output_type": "execute_result"
    }
   ],
   "execution_count": 16
  },
  {
   "metadata": {
    "ExecuteTime": {
     "end_time": "2025-02-06T09:35:43.195126Z",
     "start_time": "2025-02-06T09:35:41.677825Z"
    }
   },
   "cell_type": "code",
   "source": "print(claude.tell(\"say B if you asked A\", \"A\"))",
   "id": "d1ac3c9e6e187f5f",
   "outputs": [
    {
     "name": "stdout",
     "output_type": "stream",
     "text": [
      "I will respond with B.\n"
     ]
    }
   ],
   "execution_count": 8
  },
  {
   "metadata": {},
   "cell_type": "code",
   "outputs": [],
   "execution_count": null,
   "source": "",
   "id": "61522824a51ef2b0"
  }
 ],
 "metadata": {
  "kernelspec": {
   "display_name": "Python 3",
   "language": "python",
   "name": "python3"
  },
  "language_info": {
   "codemirror_mode": {
    "name": "ipython",
    "version": 2
   },
   "file_extension": ".py",
   "mimetype": "text/x-python",
   "name": "python",
   "nbconvert_exporter": "python",
   "pygments_lexer": "ipython2",
   "version": "2.7.6"
  }
 },
 "nbformat": 4,
 "nbformat_minor": 5
}
