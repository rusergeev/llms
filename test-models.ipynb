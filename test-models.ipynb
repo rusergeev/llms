{
 "cells": [
  {
   "cell_type": "code",
   "id": "ef27f622a866226b",
   "metadata": {
    "jupyter": {
     "is_executing": true
    }
   },
   "source": [
    "import os\n",
    "from dotenv import load_dotenv\n",
    "from models import OpenAIModel, ClaudeModel\n",
    "from IPython.display import Markdown, display, update_display"
   ],
   "outputs": [],
   "execution_count": null
  },
  {
   "cell_type": "code",
   "id": "fbc121e30a2defb3",
   "metadata": {},
   "source": [
    "MODEL_GPT = 'gpt-4o-mini'\n",
    "MODEL_LLAMA = 'llama3.2'\n",
    "MODEL_CLAUDE = \"claude-3-haiku-20240307\""
   ],
   "outputs": [],
   "execution_count": null
  },
  {
   "cell_type": "code",
   "id": "c40e97220bd4e3d",
   "metadata": {},
   "source": [
    "load_dotenv(override=True)\n",
    "openai_api_key = os.getenv('OPENAI_API_KEY')\n",
    "claude_api_key = os.getenv('ANTHROPIC_API_KEY')"
   ],
   "outputs": [],
   "execution_count": null
  },
  {
   "cell_type": "code",
   "id": "3b3aa908fee4a8c6",
   "metadata": {},
   "source": [
    "openai = OpenAIModel(model=MODEL_GPT)\n",
    "claude = ClaudeModel(model=MODEL_CLAUDE)\n",
    "ollama = OpenAIModel(model=MODEL_LLAMA)"
   ],
   "outputs": [],
   "execution_count": null
  },
  {
   "cell_type": "code",
   "id": "61522824a51ef2b0",
   "metadata": {},
   "source": [
    "for model in [openai, claude]:\n",
    "    print(model.model, \":\")\n",
    "    print(model.tell(\"say B if you asked A\", \"A\"))"
   ],
   "outputs": [],
   "execution_count": null
  },
  {
   "cell_type": "code",
   "id": "71e4862974de3a65",
   "metadata": {},
   "source": [
    "list(openai.stream(\"say B if you asked A\", \"A\"))"
   ],
   "outputs": [],
   "execution_count": null
  },
  {
   "cell_type": "code",
   "id": "ea68eaa6afb3ceb4",
   "metadata": {},
   "source": [
    "list(claude.stream(\"say B if you asked A\", \"A\"))"
   ],
   "outputs": [],
   "execution_count": null
  },
  {
   "cell_type": "code",
   "id": "3e32f1309eb9a7a5",
   "metadata": {},
   "source": [
    "def tell_stream(model, system_prompt: str, user_prompt: str):\n",
    "    \"\"\"Calls stream() and displays the response in real-time Markdown format\"\"\"\n",
    "    response = \"\"\n",
    "    display_handle = display(Markdown(response), display_id=True)\n",
    "\n",
    "    for chunk in model.stream(system_prompt + \"\\nAnswer in markdown.\", user_prompt):\n",
    "        response = response.replace(\"```\", \"\").replace(\"markdown\", \"\")\n",
    "        update_display(Markdown(chunk), display_id=display_handle.display_id)"
   ],
   "outputs": [],
   "execution_count": null
  },
  {
   "cell_type": "code",
   "id": "ecabb97c03e65c5e",
   "metadata": {},
   "source": [
    "tell_stream(openai, \"you are grand mother\", \"tell me a short good night tale\")"
   ],
   "outputs": [],
   "execution_count": null
  },
  {
   "cell_type": "code",
   "id": "16892cf043628edd",
   "metadata": {},
   "source": [
    "tell_stream(claude, \"you are grand mother\", \"tell me a short good night tale\")"
   ],
   "outputs": [],
   "execution_count": null
  },
  {
   "cell_type": "code",
   "id": "58bc6ea81bf697d6",
   "metadata": {},
   "source": [],
   "outputs": [],
   "execution_count": null
  }
 ],
 "metadata": {
  "kernelspec": {
   "display_name": "Python 3 (ipykernel)",
   "language": "python",
   "name": "python3"
  },
  "language_info": {
   "codemirror_mode": {
    "name": "ipython",
    "version": 3
   },
   "file_extension": ".py",
   "mimetype": "text/x-python",
   "name": "python",
   "nbconvert_exporter": "python",
   "pygments_lexer": "ipython3",
   "version": "3.11.11"
  }
 },
 "nbformat": 4,
 "nbformat_minor": 5
}
